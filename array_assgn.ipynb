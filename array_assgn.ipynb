{
 "cells": [
  {
   "cell_type": "code",
   "execution_count": null,
   "id": "411008b7-c104-4ec3-b211-00da0f3a6b0c",
   "metadata": {},
   "outputs": [],
   "source": [
    "'''Given an array, check if it contains any duplicates or not. \n",
    "\n",
    "arr = [1, 2, 4, 2, 5, 9] \n",
    "\n",
    "Output = True'''"
   ]
  },
  {
   "cell_type": "code",
   "execution_count": 3,
   "id": "9017201c-bfef-4f0f-9984-7432fb121191",
   "metadata": {},
   "outputs": [],
   "source": [
    "arr=[1,2,4,2,5,9]\n",
    "\n",
    "def con_duplicates(arr):\n",
    "    ar=set() #initilizing empty set to keep track of elememts\n",
    "    for num in arr: #iterate through element in the array\n",
    "        if num in ar: #checking the conditions , if meets then true else false\n",
    "            return True\n",
    "        ar.add(num)\n",
    "    return False\n",
    "    "
   ]
  },
  {
   "cell_type": "code",
   "execution_count": 4,
   "id": "9c10565a-e93c-4fb9-8601-5cde1cd37e99",
   "metadata": {},
   "outputs": [
    {
     "name": "stdout",
     "output_type": "stream",
     "text": [
      "True\n"
     ]
    }
   ],
   "source": [
    "res=con_duplicates(arr)\n",
    "print(res)\n",
    "\n",
    "\n",
    "#Time complexity : O(n)"
   ]
  },
  {
   "cell_type": "code",
   "execution_count": null,
   "id": "3672c318-30a3-40dd-8b2f-62a465e82d96",
   "metadata": {},
   "outputs": [],
   "source": [
    "'''2. Given an array and an integer k, rotate the array to the right by k steps. \n",
    "\n",
    "arr = [1, 2, 3, 4, 5, 6, 7] k = 3 \n",
    "\n",
    "Output = [5, 6, 7, 1, 2, 3, 4]'''"
   ]
  },
  {
   "cell_type": "code",
   "execution_count": 5,
   "id": "d7f4a117-7553-472e-a95d-33e529f37eb4",
   "metadata": {},
   "outputs": [],
   "source": [
    "def rot_right(arr,k):\n",
    "    n=len(arr)\n",
    "    k=k%n # if k is greater than the length of the array\n",
    "    return arr[-k:]+arr[:-k] #using slicing\n",
    "\n"
   ]
  },
  {
   "cell_type": "code",
   "execution_count": 6,
   "id": "bba19e9f-be5a-4a80-9802-e82479158c72",
   "metadata": {},
   "outputs": [
    {
     "name": "stdout",
     "output_type": "stream",
     "text": [
      "[5, 6, 7, 1, 2, 3, 4]\n"
     ]
    }
   ],
   "source": [
    "arr = [1, 2, 3, 4, 5, 6, 7]\n",
    "k=3\n",
    "res=rot_right(arr,k)\n",
    "print(res)\n",
    "\n",
    "#Time complexity : O(n)"
   ]
  },
  {
   "cell_type": "code",
   "execution_count": null,
   "id": "8ae0d02a-882e-4a54-b831-01dd1647d60b",
   "metadata": {},
   "outputs": [],
   "source": [
    "'''3. Reverse the given array in-place, means without using any extra data structure. \n",
    "\n",
    "arr = [2, 4, 5, 7, 9, 12] \n",
    "\n",
    "Output = [12, 9, 7, 5, 4, 2]'''\n"
   ]
  },
  {
   "cell_type": "code",
   "execution_count": 7,
   "id": "35a5e38a-af2e-40fd-864e-ffd89dd15397",
   "metadata": {},
   "outputs": [],
   "source": [
    "def revse_array(arr):\n",
    "    #initializeing two pointers \n",
    "    left=0\n",
    "    right=len(arr)-1\n",
    " #swaping the elements at the left and right pointers and repeating steps\n",
    " #until left pointer is no longer less than right pointers     \n",
    "    while left<right:\n",
    "        arr[left],arr[right]=arr[right],arr[left]\n",
    "        left+=1\n",
    "        right-=1\n",
    "        "
   ]
  },
  {
   "cell_type": "code",
   "execution_count": 8,
   "id": "0895f9b1-e855-48d3-9ac2-c5e9d0641835",
   "metadata": {},
   "outputs": [
    {
     "name": "stdout",
     "output_type": "stream",
     "text": [
      "[12, 9, 7, 5, 4, 2]\n"
     ]
    }
   ],
   "source": [
    "arr = [2, 4, 5, 7, 9, 12] \n",
    "revse_array(arr)\n",
    "print(arr)\n",
    "#O(n) time complexity\n",
    "# O(1) additional space.\n"
   ]
  },
  {
   "cell_type": "code",
   "execution_count": null,
   "id": "4439be8e-f9c3-4420-86d1-8928cca103d5",
   "metadata": {},
   "outputs": [],
   "source": [
    "'''4. Given an array of integers, find the maximum element in an array\n",
    "\n",
    " arr = [10, 5, 20, 8, 15]\n",
    "\n",
    " Output = 20'''\n"
   ]
  },
  {
   "cell_type": "code",
   "execution_count": 9,
   "id": "9b3f5def-fe29-4007-b5c6-2c1fd6812c9e",
   "metadata": {},
   "outputs": [],
   "source": [
    "def find_max(arr):\n",
    "    if not arr:\n",
    "        return None\n",
    "    \n",
    "    max_val=arr[0] #initializing max value\n",
    "    for num in arr: #iterating through number\n",
    "        if num>max_val: #If num is greater than max_val, update max_val to num\n",
    "            max_val=num\n",
    "    return max_val #return max value\n"
   ]
  },
  {
   "cell_type": "code",
   "execution_count": 10,
   "id": "af3d2877-eca6-48b5-bc9f-24a0f1d13953",
   "metadata": {},
   "outputs": [
    {
     "name": "stdout",
     "output_type": "stream",
     "text": [
      "20\n"
     ]
    }
   ],
   "source": [
    "arr = [10, 5, 20, 8, 15]\n",
    "res=find_max(arr)\n",
    "print(res)\n",
    "#O(n) time complexity"
   ]
  },
  {
   "cell_type": "code",
   "execution_count": null,
   "id": "0edceb23-64d9-4575-a6ee-cdcb08d38a6b",
   "metadata": {},
   "outputs": [],
   "source": [
    "'''5. Given a sorted array, remove the duplicate element without using any extra data structure. \n",
    "\n",
    "arr = [1, 1, 2, 2, 2, 3, 3, 4, 4, 4, 5, 5] \n",
    "\n",
    "Output = [1, 2, 3, 4, 5]'''\n"
   ]
  },
  {
   "cell_type": "code",
   "execution_count": 11,
   "id": "9ab3b479-8033-4bd9-81d6-75cbe4efa743",
   "metadata": {},
   "outputs": [],
   "source": [
    "def rem_dupli(arr):\n",
    "    if not arr:\n",
    "        return 0\n",
    "\n",
    "    write_ind= 1 #initizing to 1 and iterate through the array starting from the second element \n",
    "    for read_index in range(1, len(arr)):\n",
    "        if arr[read_index] != arr[read_index - 1]: #If the current element is different from the previous element,\n",
    "            arr[write_ind] = arr[read_index]   #write it to the position at write_ind and increment write_ind\n",
    "            write_ind += 1\n",
    "#after loop write_ind array will have unique elements\n",
    "    return write_ind\n"
   ]
  },
  {
   "cell_type": "code",
   "execution_count": 13,
   "id": "c4af1a05-f5c3-4c34-b896-e516a49d2dec",
   "metadata": {},
   "outputs": [
    {
     "name": "stdout",
     "output_type": "stream",
     "text": [
      "[1, 2, 3, 4, 5]\n"
     ]
    }
   ],
   "source": [
    "arr = [1, 1, 2, 2, 2, 3, 3, 4, 4, 4, 5, 5] \n",
    "leng = rem_dupli(arr)\n",
    "res = arr[:leng]\n",
    "print(res)\n",
    "#O(n) time complexity\n",
    "#where n uses O(1) additional space."
   ]
  },
  {
   "cell_type": "code",
   "execution_count": null,
   "id": "80ba8032-6262-424b-812e-27ef5ab365c6",
   "metadata": {},
   "outputs": [],
   "source": []
  }
 ],
 "metadata": {
  "kernelspec": {
   "display_name": "Python 3 (ipykernel)",
   "language": "python",
   "name": "python3"
  },
  "language_info": {
   "codemirror_mode": {
    "name": "ipython",
    "version": 3
   },
   "file_extension": ".py",
   "mimetype": "text/x-python",
   "name": "python",
   "nbconvert_exporter": "python",
   "pygments_lexer": "ipython3",
   "version": "3.10.8"
  }
 },
 "nbformat": 4,
 "nbformat_minor": 5
}
